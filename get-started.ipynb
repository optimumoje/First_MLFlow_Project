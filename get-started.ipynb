{
 "cells": [
  {
   "cell_type": "markdown",
   "metadata": {},
   "source": [
    "## MLFlow Tracking Server\n"
   ]
  },
  {
   "cell_type": "code",
   "execution_count": 2,
   "metadata": {},
   "outputs": [],
   "source": [
    "import mlflow"
   ]
  },
  {
   "cell_type": "code",
   "execution_count": 3,
   "metadata": {},
   "outputs": [],
   "source": [
    "# track any experiment i carry out in this url\n",
    "mlflow.set_tracking_uri(\"http://127.0.0.1:5000\")"
   ]
  },
  {
   "cell_type": "code",
   "execution_count": 4,
   "metadata": {},
   "outputs": [
    {
     "name": "stderr",
     "output_type": "stream",
     "text": [
      "2025/04/03 16:20:46 INFO mlflow.tracking.fluent: Experiment with name 'Check localhost connection' does not exist. Creating a new experiment.\n"
     ]
    },
    {
     "name": "stdout",
     "output_type": "stream",
     "text": [
      "🏃 View run aged-bat-319 at: http://127.0.0.1:5000/#/experiments/239262195157096057/runs/be4c1f091e2348eb9ce14355a2792e59\n",
      "🧪 View experiment at: http://127.0.0.1:5000/#/experiments/239262195157096057\n"
     ]
    }
   ],
   "source": [
    "#This is to check of everything is working fine or not- just to be sure if our tracking is gonna work.\n",
    "mlflow.set_experiment(\"Check localhost connection\")\n",
    "\n",
    "# Let's try and log some information on the server\n",
    "with mlflow.start_run():\n",
    "    mlflow.log_metric(\"test\",1)\n",
    "    mlflow.log_metric(\"ITCC is my place of work currently\",2)"
   ]
  },
  {
   "cell_type": "code",
   "execution_count": 8,
   "metadata": {},
   "outputs": [
    {
     "name": "stdout",
     "output_type": "stream",
     "text": [
      "🏃 View run fearless-duck-123 at: http://127.0.0.1:5000/#/experiments/239262195157096057/runs/18effab6bae84004ab6977c8d535efee\n",
      "🧪 View experiment at: http://127.0.0.1:5000/#/experiments/239262195157096057\n",
      "🏃 View run angry-squirrel-482 at: http://127.0.0.1:5000/#/experiments/239262195157096057/runs/ade967850f9044f09da754590c97b272\n",
      "🧪 View experiment at: http://127.0.0.1:5000/#/experiments/239262195157096057\n"
     ]
    }
   ],
   "source": [
    "# Wow that is cool let's try another one\n",
    "\n",
    "with mlflow.start_run(nested=True):\n",
    "    mlflow.log_metric(\"This is test 2\",1)\n",
    "    mlflow.log_metric(\"Still at work\",2)\n",
    "\n",
    "mlflow.end_run()"
   ]
  },
  {
   "cell_type": "code",
   "execution_count": null,
   "metadata": {},
   "outputs": [],
   "source": []
  },
  {
   "cell_type": "markdown",
   "metadata": {},
   "source": []
  }
 ],
 "metadata": {
  "kernelspec": {
   "display_name": "Python 3",
   "language": "python",
   "name": "python3"
  },
  "language_info": {
   "codemirror_mode": {
    "name": "ipython",
    "version": 3
   },
   "file_extension": ".py",
   "mimetype": "text/x-python",
   "name": "python",
   "nbconvert_exporter": "python",
   "pygments_lexer": "ipython3",
   "version": "3.10.0"
  }
 },
 "nbformat": 4,
 "nbformat_minor": 2
}
